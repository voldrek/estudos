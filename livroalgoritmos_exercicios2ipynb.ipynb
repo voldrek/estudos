{
  "nbformat": 4,
  "nbformat_minor": 0,
  "metadata": {
    "colab": {
      "provenance": [],
      "authorship_tag": "ABX9TyPiLoT077DHaGhVu7hyMwMI",
      "include_colab_link": true
    },
    "kernelspec": {
      "name": "python3",
      "display_name": "Python 3"
    },
    "language_info": {
      "name": "python"
    }
  },
  "cells": [
    {
      "cell_type": "markdown",
      "metadata": {
        "id": "view-in-github",
        "colab_type": "text"
      },
      "source": [
        "<a href=\"https://colab.research.google.com/github/voldrek/estudos/blob/main/livroalgoritmos_exercicios2ipynb.ipynb\" target=\"_parent\"><img src=\"https://colab.research.google.com/assets/colab-badge.svg\" alt=\"Open In Colab\"/></a>"
      ]
    },
    {
      "cell_type": "code",
      "execution_count": null,
      "metadata": {
        "id": "X54oFlU1MVS1"
      },
      "outputs": [],
      "source": [
        "#1. Elabore um algoritmo que leia dois números e imprima qual é maior, qual é menor, ou se são iguais.\n",
        "import random\n",
        "\n",
        "n1 = random.randrange(0,100)\n",
        "n2 = random.randrange(0,100)\n",
        "if n1 > n2:\n",
        "  print(f\"O numero {n1} é maior que {n2}\")\n",
        "elif n2 > n1:\n",
        "  print(f\"O numero {n2} é maior que {n1}\")\n",
        "elif n1 == n2:\n",
        "  print(f\"Os numeros {n1} e {n2} são iguais\")\n",
        "else:\n",
        "  print(\"\")"
      ]
    },
    {
      "cell_type": "code",
      "source": [
        "#3. Uma empresa qualquer decidiu conceder um aumento de salários a seus funcionários de acordo com a tabela a seguir:Salário Atual Aumento\n",
        "#0 – 400,00 15%\n",
        "#400,01 – 700,00 12%\n",
        "#700,01 – 1.000,00 10%\n",
        "#1.000,01 – 1.800,00 7%\n",
        "#1.800,01 – 2.500,00 4%\n",
        "#acima de 2.500,01 Sem aumento\n",
        "#Escrever um algoritmo que leia o salário atual de um funcionário e escreva o percentual de seu aumento e o valor do salário corrigido a partir desse aumento. Utilize a estrutura de condição se-então aninhadas.\n",
        "\n",
        "salario_atual = float(input(\"Digite o salário do funcionário: \"))\n",
        "a1 = salario_atual + (salario_atual * 0.15)\n",
        "a2 = salario_atual + (salario_atual * 0.12)\n",
        "a3 = salario_atual + (salario_atual * 0.10)\n",
        "a4 = salario_atual + (salario_atual * 0.7)\n",
        "a5 = salario_atual + (salario_atual * 0.4)\n",
        "if salario_atual <= 400:\n",
        "  print(f\"O aumento que você teve foi de 15% e seu novo salário é {a1:.2f}\")\n",
        "elif salario_atual > 400 and salario_atual <= 700:\n",
        "  print (f\"O aumento que você teve foi de 12% e seu novo salário é {a2:.2f}\")\n",
        "elif salario_atual > 700 and salario_atual <= 1000:\n",
        "  print (f\"O aumento que você teve foi de 10% e seu novo salário é {a3:.2f}\")\n",
        "elif salario_atual > 1000 and salario_atual <= 1800:\n",
        "  print (f\"O aumento que você teve foi de 7% e seu novo salário é {a4:.2f}\")\n",
        "elif salario_atual > 1800 and salario_atual <= 2500:\n",
        "  print (f\"O aumento que você teve foi de 4% e seu novo salário é {a5:.2f}\")\n",
        "else:\n",
        "  print(\"Seu salário é mto alto para receber o reajuste\")"
      ],
      "metadata": {
        "id": "cOI4lszflmhq"
      },
      "execution_count": null,
      "outputs": []
    },
    {
      "cell_type": "code",
      "source": [
        "#4. Considerando o sistema de avaliação das médias colocado a seguir, escreva um algoritmo que avalie a média de um aluno, o seu conceito correspondente e escreva\n",
        "#a mensagem: “APROVADO” se o conceito for A, B, ou C e “REPROVADO” se o conceito for D ou E. Utilize a estrutura de condição se-entao-senao aninhadas\n",
        "#Média Conceito:\n",
        "#>= 9.0 A\n",
        "#>= 7.5 e < 9.0 B\n",
        "#>= 6.0 e < 7.5 C\n",
        "#>= 4.0 e < 6.0 D\n",
        "#< 4.0 E\n",
        "\n",
        "\n",
        "n1 = float(input(\"Digite a nota do aluno: \"))\n",
        "n2 = float(input(\"Digite a segunda nota: \"))\n",
        "soma = (n1 + n2) / 2\n",
        "\n",
        "while soma > 10:\n",
        "  print('digite novamente')\n",
        "  n1 = float(input(\"Digite a nota do aluno: \"))\n",
        "  n2 = float(input(\"Digite a segunda nota: \"))\n",
        "  soma = (n1 + n2) / 2 #estrutura de repetição caso a nota digitada seja maior que 10\n",
        "\n",
        "if soma >= 9: #estrutura se-entao-senao para declarar a nota\n",
        "  soma = 'A'\n",
        "  print(f'A nota foi {soma} e o aluno está aprovado')\n",
        "elif soma < 9 and soma >= 7.5:\n",
        "  soma = 'B'\n",
        "  print(f'A nota foi {soma} e o aluno está aprovado')\n",
        "elif soma < 7.5 and soma >= 6:\n",
        "  soma = 'C'\n",
        "  print(f'A nota foi {soma} e o aluno está aprovado')\n",
        "elif soma < 6 and soma >= 4:\n",
        "  soma = 'D'\n",
        "  print(f'A nota foi {soma} e o aluno está reprovado')\n",
        "else:\n",
        "  soma = 'E'\n",
        "  print(f'A nota foi {soma} e o aluno está reprovado')"
      ],
      "metadata": {
        "id": "ItEmCejLUEAG",
        "colab": {
          "base_uri": "https://localhost:8080/"
        },
        "outputId": "7fa3d5f6-10e6-47de-994f-43703e1d7b20"
      },
      "execution_count": null,
      "outputs": [
        {
          "output_type": "stream",
          "name": "stdout",
          "text": [
            "A nota foi D e o aluno está reprovado\n"
          ]
        }
      ]
    },
    {
      "cell_type": "code",
      "source": [
        "#5. Elabore um algoritmo que leia o nome, nota da avaliação 1 e nota da avaliação 2 de um aluno. Ao final, imprima o nome do aluno, suas notas, a média aritmética\n",
        "#e uma das mensagens: Aprovado, Reprovado ou em Prova Final (a média é 7,0 para aprovação, menor que 3,0 para reprovação e as demais em prova final).\n",
        "\n",
        "nome = str(input(\"Digite o nome do aluno: \"))\n",
        "n1 = float(input(\"Digite a nota de avaliação 1: \"))\n",
        "n2 = float(input(\"Digite a nota de avaliação 2: \"))\n",
        "nota = (n1 + n2) / 2\n",
        "\n",
        "while nota > 10:\n",
        "  print('A nota digita é maior de 10: ')\n",
        "  nome = str(input(\"Digite o nome do aluno: \"))\n",
        "  n1 = float(input(\"Digite a nota de avaliação 1: \"))\n",
        "  n2 = float(input(\"Digite a nota de avaliação 2: \"))\n",
        "  nota = (n1 + n2) / 2\n",
        "\n",
        "if nota > 7:\n",
        "  print(f'O {nome} com as notas A1 {n1} e A2 {n2} foi aprovado com a nota {nota}')\n",
        "elif nota < 3:\n",
        "  print(f'O {nome} com as notas A1 {n1} e A2 {n2} foi reprovado com a nota {nota}')\n",
        "else:\n",
        "  print(f'O {nome} com as notas A1 {n1} e A2 {n2} teve a média de {nota} e vai ter que participar da Prova Final')"
      ],
      "metadata": {
        "id": "yfQmjqooUEv0"
      },
      "execution_count": null,
      "outputs": []
    },
    {
      "cell_type": "code",
      "source": [
        "#6. Elabore um algoritmo que leia o salário de uma pessoa e imprima o desconto do INSS segundo a tabela a seguir utilizando a estrutura de condição se-então aninhadas:\n",
        "#Faixa de salário Desconto\n",
        "#Menor ou igual a R$ 600,00 Isento\n",
        "#Maior que R$ 600,00 e menor ou igual a R$ 1200,00 20%\n",
        "#Maior que R$ 1200,00 e menor ou igual a R$ 2000,00 25%\n",
        "#Maior que R$ 2000,00 30%\n",
        "\n",
        "\n",
        "salario = float(input('Digite o salário do funcionário: '))\n",
        "d1 = salario - (salario * 0.20)\n",
        "d2 = salario - (salario * 0.25)\n",
        "d3 = salario - (salario * 0.30)\n",
        "\n",
        "if salario <= 600:\n",
        "  print(f'Seu salário é R${salario}, você está isento do desconto do INSS')\n",
        "elif salario > 600 and salario <= 1200:\n",
        "  print(f'Seu salário é R${salario}, e com o desconto de 20% do INSS fica {d1}')\n",
        "elif salario > 1200 and salario <= 2000:\n",
        "  print(f'Seu salário é R${salario}, e com o desconto de 25% do INSS fica {d2}')\n",
        "else:\n",
        "  print(f'Seu salário é R${salario}, e com o desconto de 30% do INSS fica {d3}')"
      ],
      "metadata": {
        "id": "E0RBC33hUO-v"
      },
      "execution_count": null,
      "outputs": []
    },
    {
      "cell_type": "code",
      "source": [
        "#7. Sabe-se que a direção de uma determinada escolinha faz a distribuição de seus alunos de acordo com as idades dos mesmos. Dessa forma, os alunos são distribuídos nas seguintes turmas de acordo com a classificação a seguir:\n",
        "#TURMA – Faixa de Idade\n",
        "#TURMA A – de 4 a 5 anos\n",
        "#TURMA B – de 6 a 8 anos\n",
        "#TURMA C – de 9 a 10 anos\n",
        "#SEM TURMAS – abaixo de 4 anos, acima de 10 anos\n",
        "#Desenvolva um algoritmo que leia a idade de uma única criança e informe em qual turma a mesma irá ter aulas. O algoritmo deve se preocupar em responder para o usuário que a escolinha não possui turmas para a criança caso a mesma\n",
        "#tenha menos que 4 anos ou mais que 10 anos.\n",
        "\n",
        "idade = int(input('Digite a idade da criança: '))\n",
        "\n",
        "if idade < 4 and idade > 10:\n",
        "  print(f'Não temos classe para crianças de {idade} anos.')\n",
        "elif idade >= 4 and idade <= 5:\n",
        "  print(f'A sua criança de {idade} anos, está na turma A.')\n",
        "elif idade > 5 and idade <= 8:\n",
        "  print(f'A sua criança de {idade} anos, está na turma B.')\n",
        "else:\n",
        "  print(f'A sua criança de {idade} anos, está na turma C')"
      ],
      "metadata": {
        "id": "a-rERkZ4UQhc"
      },
      "execution_count": null,
      "outputs": []
    },
    {
      "cell_type": "code",
      "source": [
        "#8. Numa loja de eletrodomésticos, as compras têm um preço à vista, ou acréscimo\n",
        "#de 10 % para pagamentos em 2 vezes, ou ainda, acréscimo de 20% para pagamento em 3 vezes. O programa deve pedir para o usuário entrar com o valor da\n",
        "#compra a vista e a opção de compra. O programa deve exibir qual o valor final a ser pago.\n",
        "\n",
        "preco = float(input('Digite o valor do produto: '))\n",
        "print('---' * 20)\n",
        "print('parcelas')\n",
        "print('[1]2 vezes\\n[2]3 vezes')\n",
        "parc = int(input('Quantas vezes você quer parcelar? '))\n",
        "\n",
        "while parc != 1 and parc != 2:\n",
        "  print('---' * 20)\n",
        "  print('parcelas')\n",
        "  print('[1]2 vezes\\n[2]3 vezes')\n",
        "  parc = int(input('Quantas vezes você quer parcelar? '))\n",
        "\n",
        "parc1 = (preco + (preco * 0.10)) / 2\n",
        "parc2 = (preco + (preco * 0.20)) / 3\n",
        "\n",
        "if parc == 1:\n",
        "  print(f'A sua compra de {preco} parcelado em 2 vezez fica {parc1} em cada parcela')\n",
        "else:\n",
        "  print(f'A sua compra de {preco} parcelado em 3 vezes fica {parc2} em cada parcela')"
      ],
      "metadata": {
        "id": "gOLlTmsWUTOd"
      },
      "execution_count": null,
      "outputs": []
    },
    {
      "cell_type": "code",
      "source": [
        "#9. Faça um programa para calcular a conta final de um hóspede de um hotel fictício,considerando que:\n",
        "# Devem ser lidos o nome do hóspede, o tipo do apartamento utilizado (A, B,C ou D), o número de diárias utilizadas pelo hóspede e o valor do consumo interno do hóspede;\n",
        "# O valor da diária é determinado pela seguinte tabela:\n",
        "#TIPO DO APTO – VALOR DA DIÁRIA (R$)\n",
        "#A – 150.00\n",
        "#B – 100.00\n",
        "#C – 75.00\n",
        "#D – 150.00\n",
        "# O valor total das diárias é calculado pela multiplicação do número de diárias utilizadas pelo valor da diária;\n",
        "# O subtotal é calculado pela soma do valor total das diárias e o valor do consumo interno;\n",
        "# O valor da taxa de serviço equivale a 10% do subtotal;\n",
        "# O total geral resulta da soma do subtotal com a taxa de serviço.\n",
        "# Escreva a conta final contendo: o nome do hóspede, o tipo do apartamento, o número de diárias utilizadas, o valor unitário da diária, o valor total das diárias,\n",
        "#o valor do consumo interno, o subtotal, o valor da taxa de serviço e o total geral.\n",
        "\n",
        "import random\n",
        "\n",
        "def apt_a():\n",
        "  valor_diarias = dias * 150\n",
        "  sub_total = valor_diarias + csm_int\n",
        "  total_geral = sub_total + (sub_total * 0.10)\n",
        "  print('----' * 20)\n",
        "  print(f'O hóspede {nome}\\nApartamento escolhido foi o tipo A\\nDias estadias {dias}\\nValor diária R$150,00\\nTotal diárias R${valor_diarias}\\nConsumo interno R${csm_int:.2f}\\nSub-Total R${sub_total}\\nTaxa de serviço R${sub_total * 0.10}\\nTotal R${total_geral}')\n",
        "\n",
        "def apt_b():\n",
        "  valor_diarias = dias * 100\n",
        "  sub_total = valor_diarias + csm_int\n",
        "  total_geral = sub_total + (sub_total * 0.10)\n",
        "  print('----' * 20)\n",
        "  print(f'O hóspede {nome}\\nApartamento escolhido foi o tipo B\\nDias estadias {dias}\\nValor diária R$100,00\\nTotal diárias R${valor_diarias}\\nConsumo interno {csm_int:.2f}\\nSub-Total R${sub_total}\\nTaxa de serviço R${sub_total * 0.10}\\nTotal R${total_geral}')\n",
        "\n",
        "def apt_c():\n",
        "  valor_diarias = dias * 75\n",
        "  sub_total = valor_diarias + csm_int\n",
        "  total_geral = sub_total + (sub_total * 0.10)\n",
        "  print('----' * 20)\n",
        "  print(f'O hóspede {nome}\\nApartamento escolhido foi o tipo C\\nDias estadias {dias}\\nValor diária R$75,00\\nTotal diárias R${valor_diarias}\\nConsumo interno R${csm_int:.2f}\\nSub-Total R${sub_total}\\nTaxa de serviço R${sub_total * 0.10}\\nTotal R${total_geral}')\n",
        "\n",
        "def apt_d():\n",
        "  valor_diarias = dias * 150\n",
        "  sub_total = valor_diarias + csm_int\n",
        "  total_geral = sub_total + (sub_total * 0.10)\n",
        "  print('----' * 20)\n",
        "  print(f'O hóspede {nome}\\nApartamento escolhido foi o tipo D\\nDias estadias {dias}\\nValor diária R$150,00\\nTotal diárias R${valor_diarias}\\nConsumo interno R${csm_int:.2f}\\nSub-Total R${sub_total}\\nTaxa de serviço R${sub_total * 0.10}\\nTotal R${total_geral}')\n",
        "\n",
        "nome = str(input('Qual o seu nome: '))\n",
        "dias = int(input('Quantos dias vc pretende ficar? '))\n",
        "print('---' * 20)\n",
        "print('[1]A – R$150,00\\n[2]B – R$100,00\\n[3]C – R$75,00\\n[4]D – R$150,00')\n",
        "apt =  int(input('Escolha seu apartamento: '))\n",
        "csm_int = random.randrange(50.00,6000.00)\n",
        "\n",
        "if apt == 1:\n",
        "  apt_a()\n",
        "elif apt == 2:\n",
        "  apt_b()\n",
        "elif apt == 3:\n",
        "  apt_c()\n",
        "else:\n",
        "  apt_d()\n"
      ],
      "metadata": {
        "id": "u_e_mwjhUY-s"
      },
      "execution_count": null,
      "outputs": []
    },
    {
      "cell_type": "code",
      "source": [
        "#11. Construir um algoritmo que tome como entrada três valores e os imprima em ordem crescente.\n",
        "\n",
        "a = int(input('Escreva um número: '))\n",
        "b = int(input('Escreva um número: '))\n",
        "c = int(input('Escreva um número: '))\n",
        "\n",
        "if a >= b and a >= c and b >= c:\n",
        "    print(f'A ordem decrescente é {a} , {b} e {c}')\n",
        "elif a >= b and a >=c and c >= b:\n",
        "    print(f'A ordem decrescente é {a} , {c} e {b}')\n",
        "elif b >= a and b >= c and a >= c:\n",
        "    print(f'A ordem decrescente é {b} , {a} e {c}')\n",
        "elif b >= a and b >= c and c >= a:\n",
        "    print(f'A ordem decrescente é {b} , {c} e {a}')\n",
        "elif c >= a and c >= b and a >=b:\n",
        "    print(f'A ordem decrescente é {c} , {a} e {b}')\n",
        "elif c >= a and c >= b and b >= a:\n",
        "    print(f'A ordem decrescente é {c} , {b} e {a}')\n",
        "else:\n",
        "  print()"
      ],
      "metadata": {
        "id": "2DYBQ94yUhNV",
        "colab": {
          "base_uri": "https://localhost:8080/"
        },
        "outputId": "342ca45b-4b39-40ab-b698-7695694848ee"
      },
      "execution_count": null,
      "outputs": [
        {
          "output_type": "stream",
          "name": "stdout",
          "text": [
            "Escreva um número: 44\n",
            "Escreva um número: 44\n",
            "Escreva um número: 44\n",
            "A ordem decrescente é 44 , 44 e 44\n"
          ]
        }
      ]
    },
    {
      "cell_type": "code",
      "source": [],
      "metadata": {
        "id": "dg9HIC-4UjN8"
      },
      "execution_count": null,
      "outputs": []
    }
  ]
}