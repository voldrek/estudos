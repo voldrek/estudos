{
  "nbformat": 4,
  "nbformat_minor": 0,
  "metadata": {
    "colab": {
      "provenance": [],
      "authorship_tag": "ABX9TyPjl7z+WUJisBSbJLVmRo3L",
      "include_colab_link": true
    },
    "kernelspec": {
      "name": "python3",
      "display_name": "Python 3"
    },
    "language_info": {
      "name": "python"
    }
  },
  "cells": [
    {
      "cell_type": "markdown",
      "metadata": {
        "id": "view-in-github",
        "colab_type": "text"
      },
      "source": [
        "<a href=\"https://colab.research.google.com/github/voldrek/estudos/blob/main/livroalgoritmos_exercicios2ipynb.ipynb\" target=\"_parent\"><img src=\"https://colab.research.google.com/assets/colab-badge.svg\" alt=\"Open In Colab\"/></a>"
      ]
    },
    {
      "cell_type": "code",
      "execution_count": null,
      "metadata": {
        "id": "X54oFlU1MVS1"
      },
      "outputs": [],
      "source": [
        "#1. Elabore um algoritmo que leia dois números e imprima qual é maior, qual é menor, ou se são iguais.\n",
        "import random\n",
        "\n",
        "n1 = random.randrange(0,100)\n",
        "n2 = random.randrange(0,100)\n",
        "if n1 > n2:\n",
        "  print(f\"O numero {n1} é maior que {n2}\")\n",
        "elif n2 > n1:\n",
        "  print(f\"O numero {n2} é maior que {n1}\")\n",
        "elif n1 == n2:\n",
        "  print(f\"Os numeros {n1} e {n2} são iguais\")\n",
        "else:\n",
        "  print(\"\")"
      ]
    },
    {
      "cell_type": "code",
      "source": [
        "#3. Uma empresa qualquer decidiu conceder um aumento de salários a seus funcionários de acordo com a tabela a seguir:Salário Atual Aumento\n",
        "#0 – 400,00 15%\n",
        "#400,01 – 700,00 12%\n",
        "#700,01 – 1.000,00 10%\n",
        "#1.000,01 – 1.800,00 7%\n",
        "#1.800,01 – 2.500,00 4%\n",
        "#acima de 2.500,00 Sem aumento\n",
        "#Escrever um algoritmo que leia o salário atual de um funcionário e escreva o percentual de seu aumento e o valor do salário corrigido a partir desse aumento. Utilize a estrutura de condição se-então aninhadas.\n",
        "\n",
        "salario_atual = float(input(\"Digite o salário do funcionário: \"))\n",
        "a1 = salario_atual + (salario_atual * 0.15)\n",
        "a2 = salario_atual + (salario_atual * 0.12)\n",
        "a3 = salario_atual + (salario_atual * 0.10)\n",
        "a4 = salario_atual + (salario_atual * 0.7)\n",
        "a5 = salario_atual + (salario_atual * 0.4)\n",
        "if salario_atual <= 400:\n",
        "  print(f\"O aumento que você teve foi de 15% e seu novo salário é {a1}\")\n",
        "elif salario_atual > 400 and salario_atual <= 700:\n",
        "  print (f\"O aumento que você teve foi de 12% e seu novo salário é {a2}\")\n",
        "elif salario_atual > 700 and salario_atual <= 1000:\n",
        "  print (f\"O aumento que você teve foi de 10% e seu novo salário é {a3}\")\n",
        "elif salario_atual > 1000 and salario_atual <= 1800:\n",
        "  print (f\"O aumento que você teve foi de 7% e seu novo salário é {a4}\")\n",
        "elif salario_atual > 1800 and salario_atual <= 2500:\n",
        "  print (f\"O aumento que você teve foi de 4% e seu novo salário é {a5}\")\n",
        "else:\n",
        "  print(\"Seu salário é mto alto para receber o reajuste\")"
      ],
      "metadata": {
        "id": "cOI4lszflmhq"
      },
      "execution_count": null,
      "outputs": []
    },
    {
      "cell_type": "code",
      "source": [
        "4. Considerando o sistema de avaliação das médias colocado a seguir, escreva um\n",
        "algoritmo que avalie a média de um aluno, o seu conceito correspondente e escreva\n",
        "a mensagem: “APROVADO” se o conceito for A, B, ou C e “REPROVADO”\n",
        "se o conceito for D ou E. Utilize a estrutura de condição se-entao-senao aninhadas\n",
        "Média Conceito\n",
        ">= 9.0 A\n",
        ">= 7.5 e < 9.0 B\n",
        ">= 6.0 e < 7.5 C\n",
        ">= 4.0 e < 6.0 D\n",
        "< 4.0 E"
      ],
      "metadata": {
        "id": "ItEmCejLUEAG"
      },
      "execution_count": null,
      "outputs": []
    },
    {
      "cell_type": "code",
      "source": [
        "5. Elabore um algoritmo que leia o nome, nota da avaliação 1 e nota da avaliação 2\n",
        "de um aluno. Ao final, imprima o nome do aluno, suas notas, a média aritmética\n",
        "e uma das mensagens: Aprovado, Reprovado ou em Prova Final (a média é 7,0\n",
        "para aprovação, menor que 3,0 para reprovação e as demais em prova final)."
      ],
      "metadata": {
        "id": "yfQmjqooUEv0"
      },
      "execution_count": null,
      "outputs": []
    },
    {
      "cell_type": "code",
      "source": [
        "6. Elabore um algoritmo que leia o salário de uma pessoa e imprima o desconto\n",
        "do INSS segundo a tabela a seguir utilizando a estrutura de condição se-então\n",
        "aninhadas:\n",
        "Faixa de salário Desconto\n",
        "Menor ou igual a R$ 600,00 Isento\n",
        "Maior que R$ 600,00 e menor ou igual a R$ 1200,00 20%\n",
        "Maior que R$ 1200,00 e menor ou igual a R$ 2000,00 25%\n",
        "Maior que R$ 2000,00 30%"
      ],
      "metadata": {
        "id": "E0RBC33hUO-v"
      },
      "execution_count": null,
      "outputs": []
    },
    {
      "cell_type": "code",
      "source": [
        "7. Sabe-se que a direção de uma determinada escolinha faz a distribuição de seus\n",
        "alunos de acordo com as idades dos mesmos. Dessa forma, os alunos são distribuídos\n",
        "nas seguintes turmas de acordo com a classificação a seguir:\n",
        "TURMA – Faixa de Idade\n",
        "TURMA A – de 4 a 5 anos\n",
        "TURMA B – de 6 a 8 anos\n",
        "TURMA C – de 9 a 10 anos\n",
        "SEM TURMAS – abaixo de 4 anos, acima de 10 anos\n",
        "Desenvolva um algoritmo que leia a idade de uma única criança e informe em\n",
        "qual turma a mesma irá ter aulas. O algoritmo deve se preocupar em responder\n",
        "para o usuário que a escolinha não possui turmas para a criança caso a mesma\n",
        "tenha menos que 4 anos ou mais que 10 anos."
      ],
      "metadata": {
        "id": "a-rERkZ4UQhc"
      },
      "execution_count": null,
      "outputs": []
    },
    {
      "cell_type": "code",
      "source": [
        "8. Numa loja de eletrodomésticos, as compras têm um preço à vista, ou acréscimo\n",
        "de 10 % para pagamentos em 2 vezes, ou ainda, acréscimo de 20% para pagamento em 3 vezes. O programa deve pedir para o usuário entrar com o valor da\n",
        "compra a vista e a opção de compra. O programa deve exibir qual o valor final a\n",
        "ser pago."
      ],
      "metadata": {
        "id": "gOLlTmsWUTOd"
      },
      "execution_count": null,
      "outputs": []
    },
    {
      "cell_type": "code",
      "source": [
        "9. Faça um programa para calcular a conta final de um hóspede de um hotel fictício,\n",
        "considerando que:\n",
        ". Devem ser lidos o nome do hóspede, o tipo do apartamento utilizado (A, B,\n",
        "C ou D), o número de diárias utilizadas pelo hóspede e o valor do consumo\n",
        "interno do hóspede;\n",
        ". O valor da diária é determinado pela seguinte tabela:\n",
        "TIPO DO APTO – VALOR DA DIÁRIA (R$)\n",
        "A – 150.00\n",
        "B – 100.00\n",
        "C – 75.00\n",
        "D – 150.00\n",
        ". O valor total das diárias é calculado pela multiplicação do número de diárias\n",
        "utilizadas pelo valor da diária;\n",
        ". O subtotal é calculado pela soma do valor total das diárias e o valor do\n",
        "consumo interno;\n",
        ". O valor da taxa de serviço equivale a 10% do subtotal;\n",
        ". O total geral resulta da soma do subtotal com a taxa de serviço.\n",
        "Escreva a conta final contendo: o nome do hóspede, o tipo do apartamento, o\n",
        "número de diárias utilizadas, o valor unitário da diária, o valor total das diárias,\n",
        "o valor do consumo interno, o subtotal, o valor da taxa de serviço e o total geral."
      ],
      "metadata": {
        "id": "u_e_mwjhUY-s"
      },
      "execution_count": null,
      "outputs": []
    },
    {
      "cell_type": "code",
      "source": [
        "10. Construa a tabela de decisão (veja Tabela 6.1) para o algoritmo 31 abaixo, conforme\n",
        "os possíveis valores de q1, q2, q3, especificando o que será impresso em\n",
        "cada caso ao final da execução do algoritmo."
      ],
      "metadata": {
        "id": "K4cbT4RzUb9u"
      },
      "execution_count": null,
      "outputs": []
    },
    {
      "cell_type": "code",
      "source": [
        "11. Construir um algoritmo que tome como entrada três valores e os imprima em\n",
        "ordem crescente."
      ],
      "metadata": {
        "id": "2DYBQ94yUhNV"
      },
      "execution_count": null,
      "outputs": []
    },
    {
      "cell_type": "code",
      "source": [
        "12. Elabore um algoritmo para ler três valores e verificar se eles podem ser os comprimentos\n",
        "dos lados de um triângulo, e se forem dizer o tipo de triângulo. ParaAlgoritmo 31 Problema 20\n",
        "var q1, q2, q3: logico\n",
        "escreva \u0010A\u0011\n",
        "se (q1) então\n",
        "escreva \u0010B\u0011\n",
        "escreva \u0010C\u0011\n",
        "\n",
        "m-se\n",
        "se (q2) então\n",
        "escreva \u0010D\u0011\n",
        "\n",
        "m-se\n",
        "escreva \u0010E\u0011\n",
        "se (q3) então\n",
        "escreva \u0010F\u0011\n",
        "senão\n",
        "escreva \u0010G\u0011\n",
        "\n",
        "m-se\n",
        "escreva \u0010H\u0011\n",
        "ser um triângulo é necessário que qualquer um dos lados do mesmo seja menor\n",
        "que a soma dos outros dois lados, (A < B+C), (B < A+C) e (C < A+B). Utilize\n",
        "a estrutura de condição se-entao aninhadas. Equilátero é aquele que tem os três\n",
        "lados iguais (A = B = C.) Isósceles é aquele que tem dois lados iguais (A = B)\n",
        "ou (A = C) ou (B = C). Escaleno é aquele que tem todos os lados diferentes\n",
        "(A <> B <> C)"
      ],
      "metadata": {
        "id": "dg9HIC-4UjN8"
      },
      "execution_count": null,
      "outputs": []
    },
    {
      "cell_type": "code",
      "source": [],
      "metadata": {
        "id": "njwumGL9UoH3"
      },
      "execution_count": null,
      "outputs": []
    }
  ]
}