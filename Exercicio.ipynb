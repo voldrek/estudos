{
  "nbformat": 4,
  "nbformat_minor": 0,
  "metadata": {
    "colab": {
      "provenance": [],
      "authorship_tag": "ABX9TyOJNWGCMywyLVgGs88Nb+iX",
      "include_colab_link": true
    },
    "kernelspec": {
      "name": "python3",
      "display_name": "Python 3"
    },
    "language_info": {
      "name": "python"
    }
  },
  "cells": [
    {
      "cell_type": "markdown",
      "metadata": {
        "id": "view-in-github",
        "colab_type": "text"
      },
      "source": [
        "<a href=\"https://colab.research.google.com/github/voldrek/estudos/blob/main/Exercicio.ipynb\" target=\"_parent\"><img src=\"https://colab.research.google.com/assets/colab-badge.svg\" alt=\"Open In Colab\"/></a>"
      ]
    },
    {
      "cell_type": "code",
      "execution_count": null,
      "metadata": {
        "id": "L-IREfXWrUOJ"
      },
      "outputs": [],
      "source": [
        "#Exemplo 1\n",
        "\n",
        "n1 = float(input(\"Digite um numero: \"))\n",
        "n2 = float(input(\"Digite outro numero: \"))\n",
        "sum = n1 * n2\n",
        "print(f\"O valor da divisão é igual a \",{sum})"
      ]
    },
    {
      "cell_type": "code",
      "source": [
        "#Exemplo 2\n",
        "n1 = float(input(\"Digite um numero: \"))\n",
        "n2 = float(input(\"Digite outro numero: \"))\n",
        "if n2 == 0:\n",
        "  print(\"impossivel dividir\")\n",
        "else:\n",
        "  div = n1/n2\n",
        "  print(f\"Resultado da sua divisão: \",{div})"
      ],
      "metadata": {
        "id": "gMAeIDOqwqYx"
      },
      "execution_count": null,
      "outputs": []
    },
    {
      "cell_type": "code",
      "source": [
        "#Exemplo 3\n",
        "\n",
        "n1 = float(input(\"Digite a primeira nota do aluno: \"))\n",
        "n2 = float(input(\"Digite a segunda nota do aluno \"))\n",
        "m = (n1+n2)/2\n",
        "if m >= 7:\n",
        "  print(f\"APROVADO, sua média é \",{m})\n",
        "else:\n",
        "  print(f\"REPROVADO, sua média é \",{m})"
      ],
      "metadata": {
        "id": "HPO3hqKPz5--"
      },
      "execution_count": null,
      "outputs": []
    },
    {
      "cell_type": "code",
      "source": [
        "#Exemplo 4 \n",
        "\n",
        "sal_atual = float(input(\"Digite seu salário atual: \"))\n",
        "if sal_atual <= 500:\n",
        "  novo_sal = sal_atual*1.20\n",
        "  print(f\"Seu novo salário é {novo_sal}\")\n",
        "else:\n",
        "  novo_sal = sal_atual*1.10\n",
        "  print(f\"Seu novo salário é {novo_sal}\")"
      ],
      "metadata": {
        "id": "UqnJkFxx1Rh5"
      },
      "execution_count": null,
      "outputs": []
    },
    {
      "cell_type": "code",
      "source": [
        "#Exemplo 5\n",
        "\n",
        "n1 = float(input(\"Digite a primeira nota: \"))\n",
        "n2 = float(input(\"Digite a segunda nota: \"))\n",
        "m = (n1+n2)/2\n",
        "print(f'Sua média é {m}')"
      ],
      "metadata": {
        "id": "sTUBw9NBKxtZ"
      },
      "execution_count": null,
      "outputs": []
    },
    {
      "cell_type": "code",
      "source": [
        "#Exemplo 6\n",
        "\n",
        "n1 = float(input(\"Digite a primeira nota: \"))\n",
        "n2 = float(input(\"Digite a segunda nota: \"))\n",
        "mp = (n1 * 2 + n2 * 3)/5\n",
        "print(f\"Sua média ponderada é {mp}\")"
      ],
      "metadata": {
        "id": "-FZk-N_pLvQo"
      },
      "execution_count": null,
      "outputs": []
    },
    {
      "cell_type": "code",
      "source": [],
      "metadata": {
        "id": "JUkcwfEIM2bn"
      },
      "execution_count": null,
      "outputs": []
    }
  ]
}