{
  "nbformat": 4,
  "nbformat_minor": 0,
  "metadata": {
    "colab": {
      "provenance": [],
      "authorship_tag": "ABX9TyM+6fnfT6mO6K+UFrxdiZb0",
      "include_colab_link": true
    },
    "kernelspec": {
      "name": "python3",
      "display_name": "Python 3"
    },
    "language_info": {
      "name": "python"
    }
  },
  "cells": [
    {
      "cell_type": "markdown",
      "metadata": {
        "id": "view-in-github",
        "colab_type": "text"
      },
      "source": [
        "<a href=\"https://colab.research.google.com/github/voldrek/estudos/blob/main/Livro_algoritmosexercicios3_py.ipynb\" target=\"_parent\"><img src=\"https://colab.research.google.com/assets/colab-badge.svg\" alt=\"Open In Colab\"/></a>"
      ]
    },
    {
      "cell_type": "code",
      "execution_count": null,
      "metadata": {
        "id": "ngyYyaT9zfQM"
      },
      "outputs": [],
      "source": [
        "#1. Criar um algoritmo que leia dois números inteiros, e que solicite ao usuário qual a operação deseja realizar entre esses números. Caso o usuário digitar o caractere\n",
        "#“*” será realizada uma multiplicação, caso seja digitado o caractere “/” será realizada uma divisão, caso seja digitado o caractere “+” será realizado uma adição,\n",
        "#e caso seja digitado o caractere “–” será realizada uma subtração.\n",
        "\n",
        "def mult():\n",
        "  res = n1 * n2\n",
        "  print(f'{n1}{esc}{n2}={res}')\n",
        "\n",
        "def sub():\n",
        "  res = n1 - n2\n",
        "  print(f'{n1}{esc}{n2}={res}')\n",
        "\n",
        "def adc():\n",
        "  res = n1 + n2\n",
        "  print(f'{n1}{esc}{n2}={res}')\n",
        "\n",
        "def div():\n",
        "  res = n1 * n2\n",
        "  print(f'{n1}{esc}{n2}={res}')\n",
        "\n",
        "print('calculadora')\n",
        "print('---'*30)\n",
        "n1 = int(input('Digite um numero: '))\n",
        "n2 = int(input('Digite um numero: '))\n",
        "print('Qual operação vc quer realizar entre os numeros: ')\n",
        "esc = str(input('[+]Adição\\n[-]Subtração\\n[*]Multiplicação\\n[/]Divisão\\n'))\n",
        "if esc == '+':\n",
        "  adc()\n",
        "elif esc == '-':\n",
        "  sub()\n",
        "elif esc == '/':\n",
        "  div()\n",
        "else:\n",
        "  mult()"
      ]
    },
    {
      "cell_type": "code",
      "source": [
        "#2. Elabore um algoritmo que leia um número inteiro entre 1 e 12 e imprima o mês correspondente. Caso seja digitado um valor fora desse intervalo, deverá ser\n",
        "#exibida uma mensagem informando que não existe mês com esse número.\n",
        "\n",
        "meses = ['JANEIRO','FEVEREIRO','MARÇO','ABRIL','MAIO','JUNHO','JULHO','AGOSTO','SETEMBRO','OUTUBRO','NOVEMBRO','DEZEMBRO']\n",
        "\n",
        "user = int(input('Digite um numero e descubra o mes correspondente: '))\n",
        "\n",
        "\n",
        "while user > 12 or user < 1:\n",
        "  print('Não existe um mês correspondente a esse mês')\n",
        "  print('Digite novamente...')\n",
        "  user = int(input('Digite um numero e descubra o mes correspondente: '))\n",
        "print(f'O numero digitado foi {user} o mês correspondente a ele é {meses[user-1]}')"
      ],
      "metadata": {
        "id": "EfDFTKEl6dYM"
      },
      "execution_count": null,
      "outputs": []
    },
    {
      "cell_type": "code",
      "source": [
        "#A.6.1 Utilizando somente a estrutura de repetição para-faça\n",
        "#1. Elabore um algoritmo que imprima todos os números de 1 até 100.\n",
        "\n",
        "n1 = 1\n",
        "for n1 in range(1,100):\n",
        "  print(n1+1)"
      ],
      "metadata": {
        "id": "swzjPvPXYNk3"
      },
      "execution_count": null,
      "outputs": []
    },
    {
      "cell_type": "code",
      "source": [
        "#2. Elabore um algoritmo que imprima todos os números de 100 até 1.\n",
        "n1 = 0\n",
        "for n1 in range(100):\n",
        "  print(n1+1)\n",
        "#necessário corrigir"
      ],
      "metadata": {
        "id": "AyYdjjfwRc9i"
      },
      "execution_count": null,
      "outputs": []
    },
    {
      "cell_type": "code",
      "source": [
        "#3. Elabore um algoritmo que imprima todos os números de 250 a 500.\n",
        "n1 = 249\n",
        "for n1 in range(n1,500):\n",
        "  print(n1+1)"
      ],
      "metadata": {
        "id": "orGEV_9KXC_y"
      },
      "execution_count": null,
      "outputs": []
    },
    {
      "cell_type": "code",
      "source": [
        "#4. Elabore um algoritmo que leia um número de entrada que indicará a quantidade de números a serem lidos. Em seguida, leia n números (conforme o valor informado anteriormente) e imprima o triplo de cada um.\n",
        "\n",
        "n1 = int(input('Digite um valor: '))\n",
        "i = 0\n",
        "for i in range(i,n1+1):\n",
        "  cont =+ 1\n",
        "  res = i * 3\n",
        "  print(f'{i} X 3 = {res}')"
      ],
      "metadata": {
        "id": "XoMRjn3RXPW5"
      },
      "execution_count": null,
      "outputs": []
    },
    {
      "cell_type": "code",
      "source": [
        "#A.6.2 Utilizando a estrutura de condição se-então-senão dentro da estrutura de repetição para-faça\n",
        "#1. Elabore um algoritmo que leia nome, idade e sexo de 20 pessoas. Imprimir o nome, se a pessoa for do sexo masculino, e tiver mais de 21 anos.\n",
        "\n",
        "cont = 0\n",
        "for i in range(0, 2):\n",
        "  nome = str(input('Digite o seu nome: '))\n",
        "  idade = int(input('Digite a sua idade: '))\n",
        "  print('Escolha o seu sexo: ')\n",
        "  sexo = str(input('[F]Feminino\\n[M]Masculino\\n')).upper()\n",
        "  if sexo == 'M' and idade >= 21: \n",
        "    print(f'Total de homens com mais de 21 anos: {cont}')\n",
        "    print(f'{nome}\\n{idade}')\n"
      ],
      "metadata": {
        "colab": {
          "base_uri": "https://localhost:8080/"
        },
        "id": "04stqMXlXRQp",
        "outputId": "8b7bfcbf-e99f-481e-fcf5-41c27a66586c"
      },
      "execution_count": null,
      "outputs": [
        {
          "output_type": "stream",
          "name": "stdout",
          "text": [
            "Digite o seu nome: Lucas\n",
            "Digite a sua idade: 25\n",
            "Escolha o seu sexo: \n",
            "[F]Feminino\n",
            "[M]Masculino\n",
            "m\n",
            "Total de homens com mais de 21 anos: 0\n",
            "Lucas\n",
            "25\n"
          ]
        }
      ]
    },
    {
      "cell_type": "code",
      "source": [
        "2. Elabore um algoritmo que imprima todos os números pares de 1 até 100."
      ],
      "metadata": {
        "id": "qMNoDb5BXUNx"
      },
      "execution_count": null,
      "outputs": []
    },
    {
      "cell_type": "code",
      "source": [
        "A.6.3 Calculando quantidades de ocorrências, somatórios e produtos\n",
        "com a estrutura para-faça\n",
        "1. Elabore um algoritmo que imprima todos os números de 100 a 200, e ao final a\n",
        "soma deles."
      ],
      "metadata": {
        "id": "7bfdXsc2XW_h"
      },
      "execution_count": null,
      "outputs": []
    },
    {
      "cell_type": "code",
      "source": [
        "2. Elabore um algoritmo que leia um número e imprima todos os números de 1 até\n",
        "o número lido, e também o seu produto. Exemplo:\n",
        "Número: 3 Saída: 1 2 3 Produto: 6"
      ],
      "metadata": {
        "id": "zFHt1cd3XZMF"
      },
      "execution_count": null,
      "outputs": []
    },
    {
      "cell_type": "code",
      "source": [
        "3. Construir um algoritmo que calcule o fatorial de um número."
      ],
      "metadata": {
        "id": "OdWOhT7qXbSQ"
      },
      "execution_count": null,
      "outputs": []
    },
    {
      "cell_type": "code",
      "source": [
        "4. Construir um algoritmo que leia dois números (BASE e EXPOENTE) e retorne\n",
        "como resultado a POTENCIA do cálculo da BASE elevado ao EXPOENTE.\n",
        "Ex: para a BASE = 2 e EXPOENTE = 4, POTENCIA = 24 = 16"
      ],
      "metadata": {
        "id": "-JWs5EUkXbZA"
      },
      "execution_count": null,
      "outputs": []
    },
    {
      "cell_type": "code",
      "source": [
        "5. Elabore um algoritmo que imprima a tabuada de um número que será informado\n",
        "pelo usuário."
      ],
      "metadata": {
        "id": "y81Df6-PXhN6"
      },
      "execution_count": null,
      "outputs": []
    },
    {
      "cell_type": "code",
      "source": [
        "6. Elabore um algoritmo que leia 30 números, e imprima quantos números maiores\n",
        "que 30 foram digitados."
      ],
      "metadata": {
        "id": "M2P5xGc-Xj0s"
      },
      "execution_count": null,
      "outputs": []
    },
    {
      "cell_type": "code",
      "source": [
        "7. Elabore um algoritmo que leia um número e imprima a soma dos números múltiplos\n",
        "de 5 no intervalo entre 1 e o número informado. Suponha que o número\n",
        "lido será maior que zero."
      ],
      "metadata": {
        "id": "meokyBYyXlri"
      },
      "execution_count": null,
      "outputs": []
    },
    {
      "cell_type": "code",
      "source": [
        "8. Elabore um algoritmo que leia 20 números, e ao final, imprima a média desses\n",
        "números."
      ],
      "metadata": {
        "id": "aA8wk9w7XnaK"
      },
      "execution_count": null,
      "outputs": []
    },
    {
      "cell_type": "code",
      "source": [
        "9. Elabore um algoritmo que leia 200 números, e imprima quantos são pares e quantos\n",
        "são ímpares."
      ],
      "metadata": {
        "id": "twlbWmAKXphK"
      },
      "execution_count": null,
      "outputs": []
    },
    {
      "cell_type": "code",
      "source": [
        "10. Um mês antes das eleições municipais, um determinado partido político encomendou\n",
        "uma pesquisa de opinião sobre as intenções de votos dos eleitores. Foram\n",
        "entrevistas 50 pessoas que indicaram suas intenções de acordo com as seguintes\n",
        "opções: (A) candidato A, (B) candidato B, (C) indeciso. Desenvolva um\n",
        "algoritmo que faça a leitura das intenções de votos dessas 50 pessoas e que informe\n",
        "ao final a porcentagem de intenções para cada uma das opções existentes\n",
        "(candidatos A e B, e indecisos)."
      ],
      "metadata": {
        "id": "jn5M89O6XsAD"
      },
      "execution_count": null,
      "outputs": []
    },
    {
      "cell_type": "code",
      "source": [
        "A.6.4 Localizando valores dentro de um conjunto com a estrutura\n",
        "para-faça\n",
        "1. Elabore um algoritmo que leia um número de entrada que indicará a quantidade\n",
        "de números a serem lidos. Em seguida, leia n números (conforme o valor\n",
        "informado anteriormente) e, ao final imprima o maior número digitado."
      ],
      "metadata": {
        "id": "HTVJbSnLXt6K"
      },
      "execution_count": null,
      "outputs": []
    },
    {
      "cell_type": "code",
      "source": [
        "2. Elabore um algoritmo que leia um número de entrada que indicará a quantidade\n",
        "de números a serem lidos. Em seguida, leia n números (conforme o valor\n",
        "informado anteriormente) e, ao final imprima o menor número digitado."
      ],
      "metadata": {
        "id": "Fp7kXUmJXv7d"
      },
      "execution_count": null,
      "outputs": []
    },
    {
      "cell_type": "code",
      "source": [
        "3. Elabore um algoritmo que leia um número de entrada que indicará a quantidade\n",
        "de números a serem lidos. Em seguida, leia n números (conforme o valor informado\n",
        "anteriormente) e, ao final imprima o maior, menor, e a média dos números\n",
        "digitados."
      ],
      "metadata": {
        "id": "O8w1qrQoXyYM"
      },
      "execution_count": null,
      "outputs": []
    },
    {
      "cell_type": "code",
      "source": [
        "A.6.5 Usando estrutura de repetição para-faça aninhada\n",
        "1. Desenvolva um algoritmo que calcule as tabuadas dos números divisíveis por 2\n",
        "que encontram-se no intervalo entre 1 e 10."
      ],
      "metadata": {
        "id": "ZyzjhdjqX0-T"
      },
      "execution_count": null,
      "outputs": []
    },
    {
      "cell_type": "code",
      "source": [
        "A.6.6 Estruturas de repetição (enquanto-faça e faça-enquanto)\n",
        "1. Desenvolva um algoritmo que realize o sorteio de um número inteiro pertencente\n",
        "ao intervalo de 1 a 100, e que solicite ao usuário qual o valor que foi sorteado.\n",
        "O algoritmo deve informar se o valor que o usuário digitou é maior, menor\n",
        "ou igual ao valor sorteado. O algoritmo deve parar quando o usuário acertar o\n",
        "valor sorteado e deve informar ao final a quantidade de tentativas que o usuário\n",
        "utilizou para acertar o número. Considere a existência de um comando chamado\n",
        "SORTEIO que retorna um valor aleatório de 1 até um número informado da seguinte\n",
        "forma:\n",
        "Algoritmo 32 Adivinhacao\n",
        "var sorteado: inteiro\n",
        "sorteado   SORTEIO(100) {o número 100 indica que o sorteio será de 1 a 100}"
      ],
      "metadata": {
        "id": "yTOM2ez1X3-6"
      },
      "execution_count": null,
      "outputs": []
    },
    {
      "cell_type": "code",
      "source": [
        "2. Uma determinada empresa fez uma pesquisa de mercado para saber se as pessoas\n",
        "gostaram ou não de um novo produto que foi lançado. Para cada pessoa entrevistada\n",
        "foram coletados os seguintes dados: Sexo (M ou F) e Resposta (Gostou\n",
        "ou Não Gostou). Sabendo-se que foram entrevistados N pessoas, faça um programa\n",
        "que forneça:\n",
        ". Número de pessoas que gostaram do produto\n",
        ". Numero de pessoas que não gostaram do produto\n",
        ". Percentagem de pessoas do sexo masculino que não gostaram do produto\n",
        ". Informação dizendo em que sexo o produto teve uma melhor aceitação"
      ],
      "metadata": {
        "id": "KZSf02YbX7Iq"
      },
      "execution_count": null,
      "outputs": []
    },
    {
      "cell_type": "code",
      "source": [
        "A.6.7 Séries pagina 80\n",
        "1. Desenvolva um algoritmo que calcule o valor de \u0019 a partir da seguinte expressão\n",
        "matemática:\n",
        "\u0019 = 4Xnk=0(􀀀1)k(1(2k + 1))\n",
        "onde n deve ser informado pelo usuário e corresponde ao grau de precisão no\n",
        "cálculo do valor de \u0019\n",
        "Algoritmo 33 Calculo do pi\n",
        "var k, n: inteiro\n",
        "var pi: real\n",
        "escreva (\u0011digite n\u0011)\n",
        "leia(n)\n",
        "pi   0\n",
        "para k de 0 ate n passo 1 faça\n",
        "se k mod 2 = 0 então\n",
        "pi   pi + 1=(2 \u0003 k + 1)\n",
        "senão\n",
        "pi   pi 􀀀 1=(2 \u0003 k + 1)\n",
        "\n",
        "m-se\n",
        "\n",
        "m-para\n",
        "pi   4 \u0003 pi\n",
        "escreva (\u0011O valor de pi é \u0011, pi)"
      ],
      "metadata": {
        "id": "NO0AKyLwX93y"
      },
      "execution_count": null,
      "outputs": []
    },
    {
      "cell_type": "code",
      "source": [
        "2. Resolva o exercício anterior sem a utilização da estrutura de condição se-entãosen\n",
        "ão"
      ],
      "metadata": {
        "id": "_LEQuPDMYQD6"
      },
      "execution_count": null,
      "outputs": []
    },
    {
      "cell_type": "code",
      "source": [
        "3. Desenvolva um algoritmo para calcular e imprimir o valor de S na expressão a\n",
        "seguir:\n",
        "S =\n",
        "1\n",
        "1\n",
        "􀀀\n",
        "3\n",
        "2\n",
        "+\n",
        "5\n",
        "3\n",
        "􀀀\n",
        "7\n",
        "4\n",
        "+ ::: 􀀀\n",
        "99\n",
        "50"
      ],
      "metadata": {
        "id": "8RBcoQTxYZPj"
      },
      "execution_count": null,
      "outputs": []
    },
    {
      "cell_type": "code",
      "source": [
        "4. Desenvolva um algoritmo que calcule o valor de S para um determinado valor\n",
        "de n informado pelo usuário a partir da seguinte expressão:\n",
        "Sn =\n",
        "1\n",
        "2\n",
        "+\n",
        "2\n",
        "3\n",
        "+\n",
        "3\n",
        "4\n",
        "+ ::: +\n",
        "n\n",
        "n + 1"
      ],
      "metadata": {
        "id": "8SwAJWs9YblT"
      },
      "execution_count": null,
      "outputs": []
    },
    {
      "cell_type": "code",
      "source": [
        "5. Desenvolva um algoritmo capaz de calcular o resultado da seguinte expressão\n",
        "aritmética, onde o valor de n é informado pelo usuário:\n",
        "Sn = 11 + 22 + 33 + ::: + nn"
      ],
      "metadata": {
        "id": "mO3K_usuYebr"
      },
      "execution_count": null,
      "outputs": []
    },
    {
      "cell_type": "code",
      "source": [
        "6. Desenvolva um algoritmo que calcule o valor de X que é dado por:\n",
        "Xn = n +\n",
        "n 􀀀 1\n",
        "2\n",
        "+\n",
        "n 􀀀 2\n",
        "3\n",
        "+ ::: +\n",
        "1\n",
        "n"
      ],
      "metadata": {
        "id": "YVjitD6qYg8D"
      },
      "execution_count": null,
      "outputs": []
    },
    {
      "cell_type": "code",
      "source": [],
      "metadata": {
        "id": "oOnI1qZzYkbz"
      },
      "execution_count": null,
      "outputs": []
    }
  ]
}