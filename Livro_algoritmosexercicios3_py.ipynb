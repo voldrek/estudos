{
  "nbformat": 4,
  "nbformat_minor": 0,
  "metadata": {
    "colab": {
      "provenance": [],
      "authorship_tag": "ABX9TyOuixyHLBPmGrjG7wj44e3F",
      "include_colab_link": true
    },
    "kernelspec": {
      "name": "python3",
      "display_name": "Python 3"
    },
    "language_info": {
      "name": "python"
    }
  },
  "cells": [
    {
      "cell_type": "markdown",
      "metadata": {
        "id": "view-in-github",
        "colab_type": "text"
      },
      "source": [
        "<a href=\"https://colab.research.google.com/github/voldrek/estudos/blob/main/Livro_algoritmosexercicios3_py.ipynb\" target=\"_parent\"><img src=\"https://colab.research.google.com/assets/colab-badge.svg\" alt=\"Open In Colab\"/></a>"
      ]
    },
    {
      "cell_type": "code",
      "execution_count": null,
      "metadata": {
        "id": "ngyYyaT9zfQM"
      },
      "outputs": [],
      "source": [
        "#1. Criar um algoritmo que leia dois números inteiros, e que solicite ao usuário qual a operação deseja realizar entre esses números. Caso o usuário digitar o caractere\n",
        "#“*” será realizada uma multiplicação, caso seja digitado o caractere “/” será realizada uma divisão, caso seja digitado o caractere “+” será realizado uma adição,\n",
        "#e caso seja digitado o caractere “–” será realizada uma subtração.\n",
        "\n",
        "def mult():\n",
        "  res = n1 * n2\n",
        "  print(f'{n1}{esc}{n2}={res}')\n",
        "\n",
        "def sub():\n",
        "  res = n1 - n2\n",
        "  print(f'{n1}{esc}{n2}={res}')\n",
        "\n",
        "def adc():\n",
        "  res = n1 + n2\n",
        "  print(f'{n1}{esc}{n2}={res}')\n",
        "\n",
        "def div():\n",
        "  res = n1 * n2\n",
        "  print(f'{n1}{esc}{n2}={res}')\n",
        "\n",
        "print('calculadora')\n",
        "print('---'*30)\n",
        "n1 = int(input('Digite um numero: '))\n",
        "n2 = int(input('Digite um numero: '))\n",
        "print('Qual operação vc quer realizar entre os numeros: ')\n",
        "esc = str(input('[+]Adição\\n[-]Subtração\\n[*]Multiplicação\\n[/]Divisão\\n'))\n",
        "if esc == '+':\n",
        "  adc()\n",
        "elif esc == '-':\n",
        "  sub()\n",
        "elif esc == '/':\n",
        "  div()\n",
        "else:\n",
        "  mult()"
      ]
    },
    {
      "cell_type": "code",
      "source": [
        "#2. Elabore um algoritmo que leia um número inteiro entre 1 e 12 e imprima o mês correspondente. Caso seja digitado um valor fora desse intervalo, deverá ser\n",
        "#exibida uma mensagem informando que não existe mês com esse número.\n",
        "\n",
        "meses = ['JANEIRO','FEVEREIRO','MARÇO','ABRIL','MAIO','JUNHO','JULHO','AGOSTO','SETEMBRO','OUTUBRO','NOVEMBRO','DEZEMBRO']\n",
        "\n",
        "user = int(input('Digite um numero e descubra o mes correspondente: '))\n",
        "\n",
        "\n",
        "while user > 12 or user < 1:\n",
        "  print('Não existe um mês correspondente a esse mês')\n",
        "  print('Digite novamente...')\n",
        "  user = int(input('Digite um numero e descubra o mes correspondente: '))\n",
        "print(f'O numero digitado foi {user} o mês correspondente a ele é {meses[user-1]}')"
      ],
      "metadata": {
        "id": "EfDFTKEl6dYM"
      },
      "execution_count": null,
      "outputs": []
    },
    {
      "cell_type": "code",
      "source": [],
      "metadata": {
        "id": "swzjPvPXYNk3"
      },
      "execution_count": null,
      "outputs": []
    }
  ]
}