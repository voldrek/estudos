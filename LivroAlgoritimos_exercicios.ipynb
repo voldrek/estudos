{
  "nbformat": 4,
  "nbformat_minor": 0,
  "metadata": {
    "colab": {
      "provenance": [],
      "authorship_tag": "ABX9TyPlqagFZlbjd6BbLVttpP+m",
      "include_colab_link": true
    },
    "kernelspec": {
      "name": "python3",
      "display_name": "Python 3"
    },
    "language_info": {
      "name": "python"
    }
  },
  "cells": [
    {
      "cell_type": "markdown",
      "metadata": {
        "id": "view-in-github",
        "colab_type": "text"
      },
      "source": [
        "<a href=\"https://colab.research.google.com/github/voldrek/estudos/blob/main/LivroAlgoritimos_exercicios.ipynb\" target=\"_parent\"><img src=\"https://colab.research.google.com/assets/colab-badge.svg\" alt=\"Open In Colab\"/></a>"
      ]
    },
    {
      "cell_type": "code",
      "source": [
        "#1. Elabore um algoritmo que leia um número e imprima uma das mensagens: é múltiplo de 3, ou, não é múltiplo de 3.\n",
        "\n",
        "n1 = int(input(\"Digite um valor e descubra se ele é multiplo de 3: \"))\n",
        "divisão = n1 % 3\n",
        "if divisão == 0:\n",
        "  print(f\"O numero {n1} é multiplo por 3\")\n",
        "else:\n",
        "  print(f\"O numero {n1} não é multiplo de 3\")"
      ],
      "metadata": {
        "id": "YPgkV_8czayc"
      },
      "execution_count": null,
      "outputs": []
    },
    {
      "cell_type": "code",
      "source": [
        "#2. Desenvolva um algoritmo que classifique um número de entrada fornecido pelo usuário como par ou ímpar.\n",
        "\n",
        "n1 = int(input(\"Digite um numero: \"))\n",
        "resto = n1 % 2\n",
        "if resto == 0:\n",
        "  print(f\"O numero {n1} é par\")\n",
        "else:\n",
        "  print(f\"O numero {n1} é impar\")"
      ],
      "metadata": {
        "id": "wYz8o6h-zII3"
      },
      "execution_count": null,
      "outputs": []
    },
    {
      "cell_type": "code",
      "source": [
        "#3. Elabore um algoritmo que leia um número, e se ele for maior do que 20, imprimir a metade desse número.\n",
        "\n",
        "n1 = float(input(\"Digite um numero: \"))\n",
        "divisão = n1/2\n",
        "if n1 > 20:\n",
        "  print(f\"A você digitou {n1} e a metade dele é {divisão}\")\n",
        "else:\n",
        "  print(f\"Você digitou {n1} numero.\")"
      ],
      "metadata": {
        "id": "eM_LMjAJy606"
      },
      "execution_count": null,
      "outputs": []
    },
    {
      "cell_type": "code",
      "execution_count": null,
      "metadata": {
        "id": "PPWLl_bKwo4t"
      },
      "outputs": [],
      "source": [
        "#4. Elabore um algoritmo que leia dois números inteiros e efetue a adição; caso o resultado seja maior que 10, imprima-o.\n",
        "\n",
        "n1 = int(input(\"Digite um numero: \"))\n",
        "n2 = int(input(\"Digite outro numero: \"))\n",
        "soma = n1+n2\n",
        "if soma > 10:\n",
        "  print(f\"A soma dos dois numero é igual a {soma}.\")\n",
        "else:\n",
        "  print(f\"O seus numeros digitados foram {n1} e {n2} e a soma entre eles é menor que 10\")"
      ]
    },
    {
      "cell_type": "code",
      "source": [
        "#5. Elabore um algoritmo que leia um número e, se ele for positivo, imprima a metade desse número, caso contrário imprima o número ao quadrado.\n",
        "\n",
        "n1 = int(input(\"Digite um numero aleatório: \"))\n",
        "soma_negativo = n1 * n1\n",
        "soma_positivo = n1 / 2\n",
        "if n1 < 0:\n",
        "  print(f\"O numero {n1} é negativo e ele ao quadrado é igaul a {soma_negativo}\")\n",
        "else:\n",
        "  print(f\"O numero {n1} é positivo e a raiz quadrada dele é {soma_positivo}\")"
      ],
      "metadata": {
        "id": "zJggVfR31j0-"
      },
      "execution_count": null,
      "outputs": []
    },
    {
      "cell_type": "code",
      "source": [
        "#6. O sistema de avaliação de determinada disciplina é composto por três provas. A primeira prova tem peso 2, a segunda tem peso 3 e a terceira tem peso 5. Considerando\n",
        "#que a média para aprovação é 7.0, Faça um algoritmo para calcular a média final de um aluno desta disciplina e dizer se o aluno foi aprovado ou não.\n",
        "\n",
        "n1 = float(input(\"Digite a primeira nota do aluno: \"))\n",
        "n2 = float(input(\"Digite a segunda nota do aluno: \"))\n",
        "n3 = float(input(\"Digite a terceira nota do aluno: \"))\n",
        "media = (n1 * 0.2) + (n2 * 0.3) + (n3 * 0.5)\n",
        "if media > 7:\n",
        "  print(f\"Parabens! Você foi aprovado, Sua nota è {media:.1f}\")\n",
        "else:\n",
        "  print(f\"Reprovado! Sua média de {media:.1f} não é o suficiente\")\n"
      ],
      "metadata": {
        "id": "lTahrIlG3rgw"
      },
      "execution_count": null,
      "outputs": []
    },
    {
      "cell_type": "code",
      "source": [
        "#7. Elabore um algoritmo que leia dois números e responda se a divisão do primeiro pelo segundo é exata (o resto da divisão deve ser igual a 0). Se for, o algoritmo\n",
        "# deve imprimir a mensagem “A divisão de (1o numero) por (2o número) é exata”.\n",
        "\n",
        "n1 = float(input(\"Digite um valor para divisão: \"))\n",
        "n2 = float(input(\"Digite outro valor para divisão: \"))\n",
        "divisão = n1 % n2\n",
        "if divisão == 0:\n",
        "  print(f\"A divisão do {n1} por {n2} é exata\")\n",
        "else:\n",
        "  print(f\"A divisão do {n1} por {n2} não é exata\")"
      ],
      "metadata": {
        "id": "OWhf-esB7s-2"
      },
      "execution_count": null,
      "outputs": []
    },
    {
      "cell_type": "code",
      "source": [
        "#8. Elabore um algoritmo que leia o nome e o peso (em real) de duas pessoas e imprima os dados da pessoa mais pesada.\n",
        "\n",
        "nome1 = str(input(\"Nome da primeira pessoa: \"))\n",
        "peso1 = float(input(\"Peso da primeira pessoa: \"))\n",
        "nome2 = str(input(\"Nome da segunda pessoa: \"))\n",
        "peso2 = float(input(\"Peso da segunda pessoa: \"))\n",
        "\n",
        "if peso1 > peso2:\n",
        "  print(f\"A/O {nome1} é mais pesada com {peso1}Kg.\")\n",
        "else:\n",
        "  print(f\"A/O {nome2} é mais pesada com {peso2}Kg.\")"
      ],
      "metadata": {
        "id": "a-bGZpU_864p"
      },
      "execution_count": null,
      "outputs": []
    },
    {
      "cell_type": "code",
      "source": [
        "#9. Elabore um algoritmo que leia um número e informe se ele é ou não divisível por 5.\n",
        "\n",
        "n1 = float(input(\"Digite um numero: \"))\n",
        "resto = n1 % 5\n",
        "if resto == 0 or resto == 5:\n",
        "  print(f\"O {n1} é divisivel por 5 \")\n",
        "else:\n",
        "  print(f\"O {n1} não é divisivel por 5\")"
      ],
      "metadata": {
        "id": "7uxXUmtoAjT8"
      },
      "execution_count": null,
      "outputs": []
    },
    {
      "cell_type": "code",
      "source": [
        "#10. Elabore um algoritmo que indique se um número digitado está compreendido entre 20 e 90, ou não.\n",
        "import random\n",
        "\n",
        "n1 = random.randrange(0,150)\n",
        "if n1 > 20 and n1 < 90:\n",
        "  print(f\"O numero {n1} está ente 20 e 90.\")\n",
        "else:\n",
        "  print(f\"O numero {n1} não está entre 20 e 90.\")"
      ],
      "metadata": {
        "colab": {
          "base_uri": "https://localhost:8080/"
        },
        "id": "bVA1YxwpFg5z",
        "outputId": "1ef65bb8-ad13-4aac-9851-ad6e3f322274"
      },
      "execution_count": 7,
      "outputs": [
        {
          "output_type": "stream",
          "name": "stdout",
          "text": [
            "O numero 133 não está entre 20 e 90.\n"
          ]
        }
      ]
    },
    {
      "cell_type": "code",
      "source": [
        "#11. Um comerciante comprou um produto e quer vendê-lo com um lucro de 45% se o valor da compra for menor que R$ 20,00; caso contrário, o lucro será de 30%.\n",
        "#Elabore um algoritmo que leia o valor do produto e imprima o valor de venda para o produto.\n",
        "\n",
        "produto = float(input(\"Digite o valor do produto: \"))\n",
        "soma1 = produto + (produto * 0.45)\n",
        "soma2 = produto + (produto * 0.30)\n",
        "if produto <= 20:\n",
        "  print(f\"O novo valor do produto é {soma1} com o valor de 45%\")\n",
        "else:\n",
        "  print(f\"O novo valor do produto é {soma2} com o valor de 30%\")"
      ],
      "metadata": {
        "id": "QGCQKBycJjMa"
      },
      "execution_count": null,
      "outputs": []
    },
    {
      "cell_type": "code",
      "source": [
        "#12. Segundo uma tabela médica, o peso ideal está relacionado com a altura e o sexo. Elabore um algoritmo que leia a altura e o sexo de uma pessoa, calcule e imprima\n",
        "#seu peso ideal, utilizando as seguintes fórmulas.\n",
        "#Para homens (72.7*altura)–58\n",
        "#Para mulheres (62.1*altura)–44.7\n",
        "\n",
        "altura = float(input(\"Digite a sua altura: \"))\n",
        "print(\"---\" * 15)\n",
        "print(\"[1]Feminino\\n[2]Masculino\")\n",
        "sexo = int(input(\"Qual o seu sexo? \"))\n",
        "homens = (72.7 * altura) - 58\n",
        "mulheres = (62.1 * altura) - 44.7\n",
        "if sexo == 2:\n",
        "  print(\"---\" * 15)\n",
        "  print(f\"O peso ideal para homens do seu porte é {homens:.2f}\")\n",
        "else:\n",
        "  print(\"---\" * 15)\n",
        "  print(f\"O peso ideal para mulheres do seu porte é {mulheres:.2f}\")"
      ],
      "metadata": {
        "id": "4GKCHdncJlYA",
        "colab": {
          "base_uri": "https://localhost:8080/"
        },
        "outputId": "f6e2d1c2-f9e5-4a9e-b2fd-6dfdbf3fdb18"
      },
      "execution_count": 23,
      "outputs": [
        {
          "output_type": "stream",
          "name": "stdout",
          "text": [
            "Digite a sua altura: 1.83\n",
            "---------------------------------------------\n",
            "[1]Feminino\n",
            "[2]Masculino\n",
            "Qual o seu sexo? 2\n",
            "---------------------------------------------\n",
            "O peso ideal para homens do seu porte é 75.04\n"
          ]
        }
      ]
    },
    {
      "cell_type": "code",
      "source": [],
      "metadata": {
        "id": "aNXpMS4KpFRM"
      },
      "execution_count": null,
      "outputs": []
    },
    {
      "cell_type": "code",
      "source": [
        "#13. Elabore um algoritmo para testar se uma senha digita é igual a “Patinho Feio”. Se a senha estiver correta escreva “Acesso permitido”, do contrario emita a mensagem “Você não tem acesso ao sistema”.\n",
        "\n",
        "senha = 'patinho_feio'\n",
        "p1 = input(\"Digite a sua senha:\").strip\n",
        "while p1 != senha:\n",
        "  senha = 'patinho_feio'\n",
        "  p1 = input(\"Digite a sua senha:\").strip\n",
        "if p1 == senha:\n",
        "  print(\"Acesso liberado\")\n",
        "else:\n",
        "  print(\"erro\")"
      ],
      "metadata": {
        "id": "zKJXXS22Jn8Q",
        "colab": {
          "base_uri": "https://localhost:8080/"
        },
        "outputId": "3cb0adef-a12a-47ae-80cf-c7b416ee9b07"
      },
      "execution_count": null,
      "outputs": [
        {
          "name": "stdout",
          "output_type": "stream",
          "text": [
            "Digite a sua senha:patinho_feio\n"
          ]
        }
      ]
    },
    {
      "cell_type": "code",
      "source": [],
      "metadata": {
        "id": "htlJIcQvHBuJ"
      },
      "execution_count": null,
      "outputs": []
    }
  ]
}